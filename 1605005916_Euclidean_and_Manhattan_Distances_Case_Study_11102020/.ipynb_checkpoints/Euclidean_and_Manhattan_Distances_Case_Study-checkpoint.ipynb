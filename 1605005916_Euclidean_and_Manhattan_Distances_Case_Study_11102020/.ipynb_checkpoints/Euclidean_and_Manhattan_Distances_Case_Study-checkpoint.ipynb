version https://git-lfs.github.com/spec/v1
oid sha256:d590914e70dc17aedc6dbb3cb55efeedecc384cbd318f03d4087421ce103c950
size 432599
